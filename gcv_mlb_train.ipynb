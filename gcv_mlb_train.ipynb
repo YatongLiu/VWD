{
 "cells": [
  {
   "cell_type": "code",
   "execution_count": 1,
   "metadata": {},
   "outputs": [],
   "source": [
    "# 最后保存这个，这个改了路径\n",
    "import os \n",
    "import csv\n",
    "import pickle\n",
    "import numpy as np\n",
    "import pandas as pd\n",
    "import get_feature_2 as gf # 获取混合矩阵的特征\n",
    "from scipy import sparse\n",
    "from tqdm import tqdm\n",
    "from sklearn.model_selection import train_test_split\n",
    "\n",
    "import warnings\n",
    "warnings.filterwarnings('ignore') #忽略不重要的warning\n",
    "\n",
    "import Evaluation as Eva # 获取评估函数"
   ]
  },
  {
   "cell_type": "code",
   "execution_count": 2,
   "metadata": {},
   "outputs": [],
   "source": [
    "import random\n",
    "random.seed(5)\n",
    "\n",
    "from sklearn.model_selection import GridSearchCV\n",
    "from sklearn.svm import SVC\n",
    "from sklearn.ensemble import RandomForestClassifier\n",
    "from skmultilearn.adapt import MLkNN\n",
    "from skmultilearn.ensemble import MajorityVotingClassifier,RakelD\n",
    "from skmultilearn.cluster import FixedLabelSpaceClusterer\n",
    "from skmultilearn.problem_transform import BinaryRelevance,ClassifierChain,LabelPowerset\n",
    "\n",
    "from sklearn.model_selection import LeaveOneOut\n",
    "loo = LeaveOneOut()\n"
   ]
  },
  {
   "cell_type": "code",
   "execution_count": 3,
   "metadata": {
    "scrolled": false
   },
   "outputs": [],
   "source": [
    "###============= mix + vec =================###\n",
    "vct_dir = '/home/dqw_lyt/LYT_Task2/New-mixdata/New-doc/vwF_embeddings/'\n",
    "K = [3,4,5]\n",
    "W = [3,4,5,6,7]\n",
    "\n",
    "KW = pd.DataFrame(columns=['k','w'])\n",
    "for k in K:\n",
    "    for w in W:\n",
    "        KW = KW.append({'k': k, 'w': w},ignore_index=True)\n",
    "        \n",
    "def concatfet(k=None,w=None):\n",
    "    if k and w:\n",
    "        vct = str(\"X_vWF_{0}_{1}.pkl\".format(k,w))\n",
    "        with open(vct_dir+vct,'rb') as f:\n",
    "            vctfet = pickle.load(f)\n",
    "            mixvct = np.concatenate((mixfet,vctfet[0]),axis=1) \n",
    "            yield mixvct\n",
    "\n",
    "def mix_vct(k=None,w=None):\n",
    "    if k and w:\n",
    "        mixvct = concatfet(k,w)\n",
    "        yield from concatfet(k,w)\n",
    "    else:\n",
    "        for i in range(KW.shape[0]):\n",
    "            k = KW.iloc[i,KW.columns.get_loc('k')]\n",
    "            w = KW.iloc[i,KW.columns.get_loc('w')]\n",
    "            yield from concatfet(k,w) # 生成器的嵌套可使用yield from\n",
    "\n",
    "                \n",
    "                \n",
    "###============= 生成划分数据集的索引 =================###\n",
    "# df1 = pd.DataFrame(columns=['Score','Params'])\n",
    "def splitdata(target,times=1,k=None,w=None):\n",
    "    rows = mutsites.index # 获取行索引\n",
    "    np.random.seed(5)\n",
    "    SEEDs = np.random.randint(200,size=times).tolist()\n",
    "    # pbar = tqdm(SEEDs,total=times)  \n",
    "    for SEED in SEEDs:\n",
    "        # pbar.set_description(str(SEEDs.index(SEED)))\n",
    "        # pbar.set_postfix(seed=int(SEED))\n",
    "        trainval_idx,test_idx = train_test_split(rows,test_size=0.2,random_state=SEED)     \n",
    "       \n",
    "        # 30D 或14D\n",
    "#         data = mixfet\n",
    "#         X_trainval = data[trainval_idx]\n",
    "#         X_test = data[test_idx]\n",
    "#         y_trainval = sparse.lil_matrix(target.loc[trainval_idx])\n",
    "#         y_test = sparse.lil_matrix(target.loc[test_idx])       \n",
    "#         yield SEED,X_trainval,y_trainval,X_test,y_test\n",
    "        \n",
    "        # 94D：mix 与 doc特征拼接\n",
    "        mv_data = concatfet(k=3,w=5) \n",
    "        for data in mv_data:\n",
    "            X_trainval = data[trainval_idx]\n",
    "            X_test = data[test_idx]\n",
    "            y_trainval = sparse.lil_matrix(target.loc[trainval_idx])\n",
    "            y_test = sparse.lil_matrix(target.loc[test_idx])       \n",
    "            yield SEED,X_trainval,y_trainval,X_test,y_test"
   ]
  },
  {
   "cell_type": "code",
   "execution_count": 4,
   "metadata": {},
   "outputs": [],
   "source": [
    "def name(estimator):\n",
    "    model = str(estimator)\n",
    "    model_n = model.split('(')[0]\n",
    "    return model_n\n",
    "\n",
    "def pretocsv(model_n,y_test,y_score,target_col,test_dir):\n",
    "    with open(test_dir+'test_'+model_n+'.csv','a') as f:\n",
    "        writer = csv.writer(f)\n",
    "        writer.writerow(target_col)\n",
    "        writer.writerows(y_test.toarray())\n",
    "        writer.writerow(target_col)\n",
    "        writer.writerows(y_score.toarray())    "
   ]
  },
  {
   "cell_type": "markdown",
   "metadata": {},
   "source": [
    "# 构建模型"
   ]
  },
  {
   "cell_type": "markdown",
   "metadata": {},
   "source": [
    "# 1.MLKNN"
   ]
  },
  {
   "cell_type": "code",
   "execution_count": 5,
   "metadata": {},
   "outputs": [],
   "source": [
    "def mlknn(target,target_col,test_dir,dir_num,model_dir):\n",
    "    gs_parameters = {'k': range(1,3)}\n",
    "    gs = GridSearchCV(MLkNN(), gs_parameters,scoring='f1_samples',cv=loo,n_jobs=15)\n",
    "\n",
    "    times = 5 # 训练验证和测试集划分的次数\n",
    "    # sp = splitdata(target,times,k=3,w=5) #带doc特征的划分数据集\n",
    "    sp = splitdata(target,times)\n",
    "    \n",
    "    df1 = pd.DataFrame(columns=['Score','Params']) #保存最好的训练结果\n",
    "\n",
    "    for SEED,X_trainval,y_trainval,X_test,y_test in sp:  \n",
    "        # print(X_trainval.shape)\n",
    "        gs.fit(X_trainval,y_trainval)    \n",
    "        model_n = name(gs.estimator)\n",
    "        df1 = df1.append({'Score': gs.best_score_, 'Params':gs.best_params_}, ignore_index=True)\n",
    "      \n",
    "        mk = MLkNN(**gs.best_params_)\n",
    "        mk.fit(X_trainval,y_trainval) \n",
    "        with open(model_dir+'{0}_{1}.pickle'.format(model_n,SEED),'wb')as f: # model_dir\n",
    "            pickle.dump(mk,f) #将模型dump进f里面  \n",
    "\n",
    "        y_score = mk.predict_proba(X_test)\n",
    "        pretocsv(model_n,y_test,y_score,target_col,test_dir) #* pretocsv(model_n,y_test,y_score,target_col,test_dir)\n",
    "    df1.to_csv('ISTH_RJ_mmc_result/validation/94D/train_{}.csv'.format(dir_num),mode='a')   #*'result/train_{}.csv'.format(dir_num)    \n"
   ]
  },
  {
   "cell_type": "markdown",
   "metadata": {},
   "source": [
    "# 2. BR"
   ]
  },
  {
   "cell_type": "code",
   "execution_count": 6,
   "metadata": {},
   "outputs": [],
   "source": [
    "def binaryrelevance(target,target_col,test_dir,dir_num,model_dir):\n",
    "    random.seed(5)\n",
    "    gs_parameters = [\n",
    "         {\n",
    "             'classifier': [SVC(probability=True,random_state=5)],\n",
    "             'classifier__kernel': ['rbf'],\n",
    "             'classifier__gamma': [0.01,0.1,1],\n",
    "             'classifier__C': [1,10,100],\n",
    "         },\n",
    "         {\n",
    "             'classifier':[RandomForestClassifier(oob_score=True,random_state=5)],\n",
    "             'classifier__n_estimators':np.arange(80,105,1)\n",
    "\n",
    "         },\n",
    "    ]\n",
    "\n",
    "    gs = GridSearchCV(BinaryRelevance(require_dense = [False,True]), gs_parameters,cv=loo,scoring='f1_samples',n_jobs=15)\n",
    "\n",
    "    times = 5 # 训练验证和测试集划分的次数\n",
    "    # sp = splitdata(target,times,k=3,w=5)\n",
    "    sp = splitdata(target,times)\n",
    "                   \n",
    "    df1 = pd.DataFrame(columns=['Score','Params']) #保存最好的训练结果\n",
    "\n",
    "    for SEED,X_trainval,y_trainval,X_test,y_test in sp:  \n",
    "        gs.fit(X_trainval,y_trainval)    \n",
    "        model_n = name(gs.estimator)\n",
    "        df1 = df1.append({'Score': gs.best_score_, 'Params':gs.best_params_}, ignore_index=True)\n",
    "\n",
    "        br = BinaryRelevance(gs.best_params_['classifier'],require_dense = [False,True])\n",
    "        br.fit(X_trainval,y_trainval) \n",
    "        with open(model_dir+'{0}_{1}.pickle'.format(model_n,SEED),'wb')as f: #python路径要用反斜杠\n",
    "            pickle.dump(br,f) #将模型dump进f里面  \n",
    "\n",
    "        y_score = br.predict_proba(X_test)\n",
    "        pretocsv(model_n,y_test,y_score,target_col,test_dir) #* pretocsv(model_n,y_test,y_score,target_col,test_dir)\n",
    "        \n",
    "    df1.to_csv('ISTH_RJ_mmc_result/validation/94D/train_{}.csv'.format(dir_num),mode='a')     \n"
   ]
  },
  {
   "cell_type": "markdown",
   "metadata": {},
   "source": [
    "# 3.CC"
   ]
  },
  {
   "cell_type": "code",
   "execution_count": 7,
   "metadata": {},
   "outputs": [],
   "source": [
    "def classifierchain(target,target_col,test_dir,dir_num,model_dir):\n",
    "    random.seed(5)\n",
    "    gs_parameters = [\n",
    "         {\n",
    "             'classifier': [SVC(probability=True,random_state=5)],\n",
    "             'classifier__kernel': ['rbf'],\n",
    "             'classifier__gamma': [0.001,0.01,0.1],\n",
    "             'classifier__C': [10,100,1000],\n",
    "         },\n",
    "         {\n",
    "            'classifier':[RandomForestClassifier(oob_score=True,random_state=5)],\n",
    "            'classifier__n_estimators':np.arange(110,150,1)\n",
    "\n",
    "         },\n",
    "    ]\n",
    "\n",
    "    gs = GridSearchCV(ClassifierChain(require_dense = [False,True]), gs_parameters,cv=loo,scoring='f1_samples',n_jobs=15)\n",
    "\n",
    "    times = 5 # 训练验证和测试集划分的次数\n",
    "    # sp = splitdata(target,times,k=3,w=5)\n",
    "    sp = splitdata(target,times)\n",
    "                   \n",
    "    df1 = pd.DataFrame(columns=['Score','Params']) #保存最好的训练结果\n",
    "\n",
    "    for SEED,X_trainval,y_trainval,X_test,y_test in sp:  \n",
    "        gs.fit(X_trainval,y_trainval)    \n",
    "        model_n = name(gs.estimator)\n",
    "        df1 = df1.append({'Score': gs.best_score_, 'Params':gs.best_params_}, ignore_index=True)\n",
    "        \n",
    "        cc = ClassifierChain(gs.best_params_['classifier'],require_dense = [False,True])\n",
    "        cc.fit(X_trainval,y_trainval) \n",
    "        with open(model_dir+'{0}_{1}.pickle'.format(model_n,SEED),'wb')as f: #python路径要用反斜杠\n",
    "            pickle.dump(cc,f) #将模型dump进f里面  \n",
    "\n",
    "        y_score = cc.predict_proba(X_test)\n",
    "        pretocsv(model_n,y_test,y_score,target_col,test_dir) #* pretocsv(model_n,y_test,y_score,target_col,test_dir)\n",
    "    \n",
    "    df1.to_csv('ISTH_RJ_mmc_result/validation/94D/train_{}.csv'.format(dir_num),mode='a')     \n"
   ]
  },
  {
   "cell_type": "markdown",
   "metadata": {},
   "source": [
    "# 4. LP"
   ]
  },
  {
   "cell_type": "code",
   "execution_count": 8,
   "metadata": {},
   "outputs": [],
   "source": [
    "def labelpowerset(target,target_col,test_dir,dir_num,model_dir):\n",
    "    random.seed(5)\n",
    "    gs_parameters = [\n",
    "         {\n",
    "             'classifier': [SVC(probability=True,random_state=5)],\n",
    "             'classifier__kernel': ['rbf'],\n",
    "             'classifier__gamma': [0.1,1,10],\n",
    "             'classifier__C': [1,10,100],\n",
    "         },\n",
    "         {\n",
    "             'classifier':[RandomForestClassifier(oob_score=True,random_state=5)],\n",
    "             'classifier__n_estimators':np.arange(80,130,1)\n",
    "         },\n",
    "    ]\n",
    "\n",
    "    gs = GridSearchCV(LabelPowerset(require_dense = [False,True]), gs_parameters,cv=loo,scoring='f1_samples',n_jobs=15)\n",
    "\n",
    "\n",
    "    times = 5 # 训练验证和测试集划分的次数\n",
    "    # sp = splitdata(target,times,k=3,w=5)\n",
    "    sp = splitdata(target,times)\n",
    "                   \n",
    "    df1 = pd.DataFrame(columns=['Score','Params']) #保存最好的训练结果\n",
    "\n",
    "\n",
    "    for SEED,X_trainval,y_trainval,X_test,y_test in sp:  \n",
    "        gs.fit(X_trainval,y_trainval)    \n",
    "        model_n = name(gs.estimator)\n",
    "        df1 = df1.append({'Score': gs.best_score_, 'Params':gs.best_params_}, ignore_index=True)\n",
    "\n",
    "        lp = LabelPowerset(gs.best_params_['classifier'],require_dense = [False,True])\n",
    "        lp.fit(X_trainval,y_trainval) \n",
    "        with open(model_dir+'{0}_{1}.pickle'.format(model_n,SEED),'wb')as f: #python路径要用反斜杠\n",
    "            pickle.dump(lp,f) #将模型dump进f里面  \n",
    "\n",
    "        y_score = lp.predict_proba(X_test)\n",
    "        pretocsv(model_n,y_test,y_score,target_col,test_dir) #* pretocsv(model_n,y_test,y_score,target_col,test_dir)\n",
    "\n",
    "        \n",
    "    df1.to_csv('ISTH_RJ_mmc_result/validation/94D/train_{}.csv'.format(dir_num),mode='a')\n",
    "\n"
   ]
  },
  {
   "cell_type": "markdown",
   "metadata": {},
   "source": [
    "# 5. RK"
   ]
  },
  {
   "cell_type": "code",
   "execution_count": 9,
   "metadata": {},
   "outputs": [],
   "source": [
    "def rakeld(target,target_col,test_dir,dir_num,model_dir):\n",
    "    random.seed(5)\n",
    "    gs_parameters = [\n",
    "         {\n",
    "             'base_classifier': [SVC(probability=True,random_state=5)],\n",
    "             'base_classifier__kernel': ['rbf'],\n",
    "             'base_classifier__gamma': [0.1,1,10],\n",
    "             'base_classifier__C': [1,10,100],\n",
    "             'labelset_size': [4,5,6],\n",
    "         },\n",
    "         {\n",
    "             'base_classifier':[RandomForestClassifier(oob_score=True,random_state=5)],\n",
    "             'base_classifier__n_estimators':np.arange(10,60,1),\n",
    "             'labelset_size': [4,5,6],\n",
    "         },\n",
    "    ]\n",
    "\n",
    "    gs = GridSearchCV(RakelD(base_classifier_require_dense = [False,True]), gs_parameters,cv=loo,scoring='f1_samples',n_jobs=15)\n",
    "\n",
    "    times = 5 # 训练验证和测试集划分的次数\n",
    "    # sp = splitdata(target,times,k=3,w=5)\n",
    "    sp = splitdata(target,times)\n",
    "                   \n",
    "    df1 = pd.DataFrame(columns=['Score','Params']) #保存最好的训练结果\n",
    "\n",
    "    for SEED,X_trainval,y_trainval,X_test,y_test in sp:  \n",
    "        gs.fit(X_trainval,y_trainval)    \n",
    "        model_n = name(gs.estimator)\n",
    "        df1 = df1.append({'Score': gs.best_score_, 'Params':gs.best_params_}, ignore_index=True)\n",
    "\n",
    "        rk = RakelD(gs.best_params_['base_classifier'],base_classifier_require_dense = [False,True])\n",
    "        rk.fit(X_trainval,y_trainval) \n",
    "        with open(model_dir+'{0}_{1}.pickle'.format(model_n,SEED),'wb')as f: #python路径要用反斜杠\n",
    "            pickle.dump(rk,f) #将模型dump进f里面  \n",
    "\n",
    "        y_score = rk.predict_proba(X_test)\n",
    "        pretocsv(model_n,y_test,y_score,target_col,test_dir) #* pretocsv(model_n,y_test,y_score,target_col,test_dir)\n",
    "\n",
    "    df1.to_csv('ISTH_RJ_mmc_result/validation/94D/train_{}.csv'.format(dir_num),mode='a')    \n"
   ]
  },
  {
   "cell_type": "markdown",
   "metadata": {},
   "source": [
    "# 加载数据"
   ]
  },
  {
   "cell_type": "code",
   "execution_count": 10,
   "metadata": {},
   "outputs": [
    {
     "name": "stdout",
     "output_type": "stream",
     "text": [
      "(528, 30)\n"
     ]
    }
   ],
   "source": [
    "data_dir = '/home/dqw_lyt/LYT_Task2/New-mixdata/'\n",
    "\n",
    "mutsites_p = data_dir + 'New-2-3.csv'\n",
    "mutsites = pd.read_csv(mutsites_p)['Amino Acid Substitution']\n",
    "\n",
    "###============= mix feature =================###\n",
    "pssm_p = data_dir + 'wt.pssm'\n",
    "spd33_p = data_dir + 'wt.spd33'\n",
    "spotd_dir = data_dir + 'New-SPOTD'\n",
    "\n",
    "mixfet = gf.mix_feature(mutsites,pssm_p,spotd_dir,spd33_p)\n",
    "print(mixfet.shape)"
   ]
  },
  {
   "cell_type": "code",
   "execution_count": 11,
   "metadata": {
    "scrolled": true
   },
   "outputs": [
    {
     "name": "stderr",
     "output_type": "stream",
     "text": [
      "New-2-3.csv:   0%|          | 0/1 [00:00<?, ?it/s]"
     ]
    },
    {
     "name": "stdout",
     "output_type": "stream",
     "text": [
      "(422, 94)\n",
      "(422, 94)\n",
      "(422, 94)\n",
      "(422, 94)\n",
      "(422, 94)\n"
     ]
    },
    {
     "name": "stderr",
     "output_type": "stream",
     "text": [
      "New-2-3.csv: 100%|██████████| 1/1 [4:54:18<00:00, 17658.33s/it]"
     ]
    },
    {
     "name": "stdout",
     "output_type": "stream",
     "text": [
      "New-2-3.csv\n"
     ]
    },
    {
     "name": "stderr",
     "output_type": "stream",
     "text": [
      "\n"
     ]
    }
   ],
   "source": [
    "datasets = ['New-2-3.csv']\n",
    "           # ['New-2-0.csv',\n",
    "           # 'New-2-1.csv',\n",
    "           # 'New-2-2.csv', \n",
    "           # 'New-3-0.csv',\n",
    "           # 'New-3-1.csv',\n",
    "           # 'New-3-2.csv',\n",
    "           # 'New-3-3.csv'] \n",
    "\n",
    "data_pbar = tqdm(datasets)\n",
    "for data_csv in data_pbar:\n",
    "    data_pbar.set_description(data_csv)\n",
    "    dir_num = 'f1_loo_'+data_csv[-7:-6]+'_'+data_csv[-5:-4]\n",
    "    \n",
    "    model_p = '/home/dqw_lyt/LYT_Task2/script/ISTH_RJ_mmc_result/model/94D/' \n",
    "    model_dir = model_p+dir_num+'/'\n",
    "    \n",
    "    test_p = '/home/dqw_lyt/LYT_Task2/script/ISTH_RJ_mmc_result/predict/94D/'\n",
    "    test_dir = test_p+dir_num+'/'\n",
    "    \n",
    "    target_p = data_dir + data_csv\n",
    "    target_df = pd.read_csv(target_p)\n",
    "    target = target_df.drop(columns=['Amino Acid Substitution'])\n",
    "    target_col = list(target.columns)\n",
    "    \n",
    "    if os.path.isdir(model_p):\n",
    "        os.mkdir(os.path.join(model_p, dir_num))\n",
    "    if os.path.isdir(test_p):\n",
    "        os.mkdir(os.path.join(test_p, dir_num))       \n",
    "    \n",
    "    ###============= training and prediction =================###\n",
    "    mlknn(target,target_col,test_dir,dir_num,model_dir)\n",
    "    \n",
    "    binaryrelevance(target,target_col,test_dir,dir_num,model_dir)\n",
    "    \n",
    "    classifierchain(target,target_col,test_dir,dir_num,model_dir)\n",
    "  \n",
    "    labelpowerset(target,target_col,test_dir,dir_num,model_dir)\n",
    "  \n",
    "    rakeld(target,target_col,test_dir,dir_num,model_dir)\n",
    "\n",
    "    tqdm.write(data_csv)"
   ]
  },
  {
   "cell_type": "code",
   "execution_count": null,
   "metadata": {},
   "outputs": [],
   "source": []
  },
  {
   "cell_type": "code",
   "execution_count": null,
   "metadata": {},
   "outputs": [],
   "source": []
  }
 ],
 "metadata": {
  "kernelspec": {
   "display_name": "Python 3",
   "language": "python",
   "name": "python3"
  },
  "language_info": {
   "codemirror_mode": {
    "name": "ipython",
    "version": 3
   },
   "file_extension": ".py",
   "mimetype": "text/x-python",
   "name": "python",
   "nbconvert_exporter": "python",
   "pygments_lexer": "ipython3",
   "version": "3.8.3"
  }
 },
 "nbformat": 4,
 "nbformat_minor": 4
}
